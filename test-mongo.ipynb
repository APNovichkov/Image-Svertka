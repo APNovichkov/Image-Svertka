{
 "cells": [
  {
   "cell_type": "code",
   "execution_count": 1,
   "metadata": {},
   "outputs": [],
   "source": [
    "from pymongo import MongoClient\n",
    "client = MongoClient()"
   ]
  },
  {
   "cell_type": "code",
   "execution_count": 4,
   "metadata": {},
   "outputs": [
    {
     "data": {
      "text/plain": [
       "['admin', 'config', 'local']"
      ]
     },
     "execution_count": 4,
     "metadata": {},
     "output_type": "execute_result"
    }
   ],
   "source": [
    "client.list_database_names()"
   ]
  },
  {
   "cell_type": "code",
   "execution_count": 5,
   "metadata": {},
   "outputs": [],
   "source": [
    "db = client['local']"
   ]
  },
  {
   "cell_type": "code",
   "execution_count": 8,
   "metadata": {},
   "outputs": [
    {
     "data": {
      "text/plain": [
       "['startup_log']"
      ]
     },
     "execution_count": 8,
     "metadata": {},
     "output_type": "execute_result"
    }
   ],
   "source": [
    "db.list_collection_names()"
   ]
  },
  {
   "cell_type": "code",
   "execution_count": 11,
   "metadata": {},
   "outputs": [],
   "source": [
    "db = client['test']"
   ]
  },
  {
   "cell_type": "code",
   "execution_count": 12,
   "metadata": {},
   "outputs": [],
   "source": [
    "dbcl = db['people']"
   ]
  },
  {
   "cell_type": "code",
   "execution_count": 15,
   "metadata": {},
   "outputs": [],
   "source": [
    "person = {\n",
    "    'name': 'Andrey',\n",
    "    'age': 20,\n",
    "    'location': 'California'\n",
    "}"
   ]
  },
  {
   "cell_type": "code",
   "execution_count": 16,
   "metadata": {},
   "outputs": [
    {
     "data": {
      "text/plain": [
       "<pymongo.results.InsertOneResult at 0x107fe0960>"
      ]
     },
     "execution_count": 16,
     "metadata": {},
     "output_type": "execute_result"
    }
   ],
   "source": [
    "dbcl.insert_one(person)"
   ]
  },
  {
   "cell_type": "code",
   "execution_count": 17,
   "metadata": {},
   "outputs": [
    {
     "data": {
      "text/plain": [
       "['admin', 'config', 'local', 'test']"
      ]
     },
     "execution_count": 17,
     "metadata": {},
     "output_type": "execute_result"
    }
   ],
   "source": [
    "client.list_database_names()"
   ]
  },
  {
   "cell_type": "code",
   "execution_count": 18,
   "metadata": {},
   "outputs": [],
   "source": [
    "for i in range(10):\n",
    "    p = {\n",
    "        'name': ('Person' + str(i))\n",
    "    }\n",
    "    dbcl.insert_one(p)"
   ]
  },
  {
   "cell_type": "code",
   "execution_count": null,
   "metadata": {},
   "outputs": [],
   "source": []
  },
  {
   "cell_type": "code",
   "execution_count": null,
   "metadata": {},
   "outputs": [],
   "source": []
  },
  {
   "cell_type": "code",
   "execution_count": null,
   "metadata": {},
   "outputs": [],
   "source": []
  },
  {
   "cell_type": "code",
   "execution_count": null,
   "metadata": {},
   "outputs": [],
   "source": []
  },
  {
   "cell_type": "code",
   "execution_count": 26,
   "metadata": {},
   "outputs": [
    {
     "name": "stdout",
     "output_type": "stream",
     "text": [
      "{'_id': ObjectId('5d7f07689572b16380b0b378'), 'name': 'Andrey', 'age': 20, 'location': 'California'}\n"
     ]
    }
   ],
   "source": [
    "for row in dbcl.find({'name': 'Andrey'}):\n",
    "    print(row)"
   ]
  },
  {
   "cell_type": "code",
   "execution_count": null,
   "metadata": {},
   "outputs": [],
   "source": []
  },
  {
   "cell_type": "code",
   "execution_count": null,
   "metadata": {},
   "outputs": [],
   "source": []
  },
  {
   "cell_type": "code",
   "execution_count": 31,
   "metadata": {},
   "outputs": [],
   "source": [
    "img_path=\"/Users/andreynovichkov/Desktop/to-post-in-august/_DSC0569.jpg\""
   ]
  },
  {
   "cell_type": "code",
   "execution_count": 49,
   "metadata": {},
   "outputs": [],
   "source": [
    "from pymongo import MongoClient\n",
    "import gridfs\n",
    "import os\n",
    "\n",
    "client = MongoClient()\n",
    "db = client['images']\n",
    "img_cl = db['image_paths']\n",
    "fs = gridfs.GridFS(db)"
   ]
  },
  {
   "cell_type": "code",
   "execution_count": 50,
   "metadata": {},
   "outputs": [
    {
     "name": "stdout",
     "output_type": "stream",
     "text": [
      "5d7fdc569572b16380b0b3e5\n"
     ]
    }
   ],
   "source": [
    "imageID = fs.put(open(\"/Users/andreynovichkov/Desktop/to-post-in-august/_DSC0569.jpg\", \"rb\"))\n",
    "print(imageID)"
   ]
  },
  {
   "cell_type": "code",
   "execution_count": 51,
   "metadata": {},
   "outputs": [
    {
     "name": "stdout",
     "output_type": "stream",
     "text": [
      "<gridfs.grid_file.GridOut object at 0x10866bc10>\n"
     ]
    }
   ],
   "source": [
    "for row in fs.find({\"_id\": imageID}):\n",
    "    print(row)"
   ]
  },
  {
   "cell_type": "code",
   "execution_count": 52,
   "metadata": {},
   "outputs": [
    {
     "data": {
      "text/plain": [
       "<pymongo.results.InsertOneResult at 0x105c4baa0>"
      ]
     },
     "execution_count": 52,
     "metadata": {},
     "output_type": "execute_result"
    }
   ],
   "source": [
    "img_cl.insert_one({'Name': \"Andrey\", \"image_id\": imageID})"
   ]
  },
  {
   "cell_type": "code",
   "execution_count": 53,
   "metadata": {},
   "outputs": [
    {
     "data": {
      "text/plain": [
       "['image_paths', 'fs.files', 'fs.chunks']"
      ]
     },
     "execution_count": 53,
     "metadata": {},
     "output_type": "execute_result"
    }
   ],
   "source": [
    "db.list_collection_names()"
   ]
  },
  {
   "cell_type": "code",
   "execution_count": 55,
   "metadata": {},
   "outputs": [
    {
     "name": "stdout",
     "output_type": "stream",
     "text": [
      "{'_id': ObjectId('5d7fdc799572b16380b0b414'), 'Name': 'Andrey', 'image_id': ObjectId('5d7fdc569572b16380b0b3e5')}\n"
     ]
    }
   ],
   "source": [
    "for row in img_cl.find():\n",
    "    print(row)"
   ]
  },
  {
   "cell_type": "code",
   "execution_count": 56,
   "metadata": {},
   "outputs": [
    {
     "data": {
      "text/plain": [
       "['image_paths', 'fs.files', 'fs.chunks']"
      ]
     },
     "execution_count": 56,
     "metadata": {},
     "output_type": "execute_result"
    }
   ],
   "source": [
    "db.list_collection_names()"
   ]
  },
  {
   "cell_type": "code",
   "execution_count": 63,
   "metadata": {},
   "outputs": [
    {
     "name": "stdout",
     "output_type": "stream",
     "text": [
      "{'_id': ObjectId('5d7fdc799572b16380b0b414'), 'Name': 'Andrey', 'image_id': ObjectId('5d7fdc569572b16380b0b3e5')}\n",
      "{'_id': ObjectId('5d7fddf8fe1882fa9c877259'), 'fs_id': ObjectId('5d7fddf8fe1882fa9c87722a'), 'name': 'San Francisco', 'category': 'City', 'location_by_country': 'United States', 'file_size': 11773658, 'path': '/Users/andreynovichkov/Desktop/to-post-in-august/_DSC0569.jpg'}\n",
      "{'_id': ObjectId('5d7fdf7b0e53e1fb0c89ab3f'), 'fs_id': ObjectId('5d7fdf7b0e53e1fb0c89ab10'), 'name': 'San Francisco', 'category': 'City', 'location_by_country': 'United States', 'file_size': 11773658, 'path': '/Users/andreynovichkov/Desktop/to-post-in-august/_DSC0569.jpg'}\n",
      "{'_id': ObjectId('5d7fe06f08eaec9f1043c16e'), 'fs_id': ObjectId('5d7fe06f08eaec9f1043c13f'), 'name': 'San Francisco', 'category': 'City', 'location_by_country': 'United States', 'file_size': 11773658, 'path': '/Users/andreynovichkov/Desktop/to-post-in-august/_DSC0569.jpg'}\n",
      "{'_id': ObjectId('5d7fe071465bef66a6fb8eaa'), 'fs_id': ObjectId('5d7fe071465bef66a6fb8e7b'), 'name': 'San Francisco', 'category': 'City', 'location_by_country': 'United States', 'file_size': 11773658, 'path': '/Users/andreynovichkov/Desktop/to-post-in-august/_DSC0569.jpg'}\n",
      "{'_id': ObjectId('5d7fe07376ce9f8c9d005ae2'), 'fs_id': ObjectId('5d7fe07276ce9f8c9d005ab3'), 'name': 'San Francisco', 'category': 'City', 'location_by_country': 'United States', 'file_size': 11773658, 'path': '/Users/andreynovichkov/Desktop/to-post-in-august/_DSC0569.jpg'}\n",
      "{'_id': ObjectId('5d7fe11856c7f2b53b4258af'), 'fs_id': ObjectId('5d7fe11756c7f2b53b425880'), 'name': 'San Francisco', 'category': 'City', 'location_by_country': 'United States', 'file_size': 11773658, 'path': '/Users/andreynovichkov/Desktop/to-post-in-august/_DSC0569.jpg'}\n",
      "{'_id': ObjectId('5d7fe126e71ad96b26ca70ea'), 'fs_id': ObjectId('5d7fe126e71ad96b26ca70bb'), 'name': 'San Francisco', 'category': 'City', 'location_by_country': 'United States', 'file_size': 11773658, 'path': '/Users/andreynovichkov/Desktop/to-post-in-august/_DSC0569.jpg'}\n",
      "{'_id': ObjectId('5d7fe1717a52646a6ca3810e'), 'fs_id': ObjectId('5d7fe1717a52646a6ca380df'), 'name': 'San Francisco', 'category': 'City', 'location_by_country': 'United States', 'file_size': 11773658, 'path': '/Users/andreynovichkov/Desktop/to-post-in-august/_DSC0569.jpg'}\n",
      "{'_id': ObjectId('5d7fe19a5ac1ec069b4ab771'), 'fs_id': ObjectId('5d7fe19a5ac1ec069b4ab742'), 'name': 'San Francisco', 'category': 'City', 'location_by_country': 'United States', 'file_size': 11773658, 'path': '/Users/andreynovichkov/Desktop/to-post-in-august/_DSC0569.jpg'}\n"
     ]
    }
   ],
   "source": [
    "for row in img_cl.find():\n",
    "    print(row)"
   ]
  },
  {
   "cell_type": "code",
   "execution_count": 62,
   "metadata": {},
   "outputs": [],
   "source": [
    "fs = fs.delete('5d7fddf8fe1882fa9c877259')"
   ]
  },
  {
   "cell_type": "code",
   "execution_count": null,
   "metadata": {},
   "outputs": [],
   "source": []
  }
 ],
 "metadata": {
  "kernelspec": {
   "display_name": "Python 3",
   "language": "python",
   "name": "python3"
  },
  "language_info": {
   "codemirror_mode": {
    "name": "ipython",
    "version": 3
   },
   "file_extension": ".py",
   "mimetype": "text/x-python",
   "name": "python",
   "nbconvert_exporter": "python",
   "pygments_lexer": "ipython3",
   "version": "3.7.4"
  }
 },
 "nbformat": 4,
 "nbformat_minor": 2
}
