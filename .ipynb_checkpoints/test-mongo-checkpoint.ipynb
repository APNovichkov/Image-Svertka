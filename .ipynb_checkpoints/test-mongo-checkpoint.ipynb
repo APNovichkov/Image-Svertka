{
 "cells": [
  {
   "cell_type": "code",
   "execution_count": 1,
   "metadata": {},
   "outputs": [],
   "source": [
    "from pymongo import MongoClient\n",
    "client = MongoClient()"
   ]
  },
  {
   "cell_type": "code",
   "execution_count": 2,
   "metadata": {},
   "outputs": [
    {
     "data": {
      "text/plain": [
       "['admin', 'config', 'images', 'local', 'test']"
      ]
     },
     "execution_count": 2,
     "metadata": {},
     "output_type": "execute_result"
    }
   ],
   "source": [
    "client.list_database_names()"
   ]
  },
  {
   "cell_type": "code",
   "execution_count": 3,
   "metadata": {},
   "outputs": [],
   "source": [
    "db = client['local']"
   ]
  },
  {
   "cell_type": "code",
   "execution_count": 4,
   "metadata": {},
   "outputs": [
    {
     "data": {
      "text/plain": [
       "['startup_log']"
      ]
     },
     "execution_count": 4,
     "metadata": {},
     "output_type": "execute_result"
    }
   ],
   "source": [
    "db.list_collection_names()"
   ]
  },
  {
   "cell_type": "code",
   "execution_count": 5,
   "metadata": {},
   "outputs": [],
   "source": [
    "db = client['test']"
   ]
  },
  {
   "cell_type": "code",
   "execution_count": 6,
   "metadata": {},
   "outputs": [],
   "source": [
    "dbcl = db['people']"
   ]
  },
  {
   "cell_type": "code",
   "execution_count": 7,
   "metadata": {},
   "outputs": [],
   "source": [
    "person = {\n",
    "    'name': 'Andrey',\n",
    "    'age': 20,\n",
    "    'location': 'California'\n",
    "}"
   ]
  },
  {
   "cell_type": "code",
   "execution_count": 8,
   "metadata": {},
   "outputs": [
    {
     "data": {
      "text/plain": [
       "<pymongo.results.InsertOneResult at 0x10681faa0>"
      ]
     },
     "execution_count": 8,
     "metadata": {},
     "output_type": "execute_result"
    }
   ],
   "source": [
    "dbcl.insert_one(person)"
   ]
  },
  {
   "cell_type": "code",
   "execution_count": 9,
   "metadata": {},
   "outputs": [
    {
     "data": {
      "text/plain": [
       "['admin', 'config', 'images', 'local', 'test']"
      ]
     },
     "execution_count": 9,
     "metadata": {},
     "output_type": "execute_result"
    }
   ],
   "source": [
    "client.list_database_names()"
   ]
  },
  {
   "cell_type": "code",
   "execution_count": 10,
   "metadata": {},
   "outputs": [],
   "source": [
    "for i in range(10):\n",
    "    p = {\n",
    "        'name': ('Person' + str(i))\n",
    "    }\n",
    "    dbcl.insert_one(p)"
   ]
  },
  {
   "cell_type": "code",
   "execution_count": null,
   "metadata": {},
   "outputs": [],
   "source": []
  },
  {
   "cell_type": "code",
   "execution_count": null,
   "metadata": {},
   "outputs": [],
   "source": []
  },
  {
   "cell_type": "code",
   "execution_count": null,
   "metadata": {},
   "outputs": [],
   "source": []
  },
  {
   "cell_type": "code",
   "execution_count": null,
   "metadata": {},
   "outputs": [],
   "source": []
  },
  {
   "cell_type": "code",
   "execution_count": 12,
   "metadata": {},
   "outputs": [
    {
     "name": "stdout",
     "output_type": "stream",
     "text": [
      "{'_id': ObjectId('5d7f07689572b16380b0b378'), 'name': 'Andrey', 'age': 20, 'location': 'California'}\n",
      "{'_id': ObjectId('5d803c765cf0dae33043b9b4'), 'name': 'Andrey', 'age': 20, 'location': 'California'}\n"
     ]
    }
   ],
   "source": [
    "for row in dbcl.find({'name': 'Andrey'}):\n",
    "    print(row)"
   ]
  },
  {
   "cell_type": "code",
   "execution_count": null,
   "metadata": {},
   "outputs": [],
   "source": []
  },
  {
   "cell_type": "code",
   "execution_count": null,
   "metadata": {},
   "outputs": [],
   "source": []
  },
  {
   "cell_type": "code",
   "execution_count": 13,
   "metadata": {},
   "outputs": [],
   "source": [
    "img_path=\"/Users/andreynovichkov/Desktop/to-post-in-august/_DSC0569.jpg\""
   ]
  },
  {
   "cell_type": "code",
   "execution_count": 1,
   "metadata": {},
   "outputs": [],
   "source": [
    "from pymongo import MongoClient\n",
    "import gridfs\n",
    "import os\n",
    "\n",
    "client = MongoClient()\n",
    "db = client['images']\n",
    "img_cl = db['image_paths']\n",
    "fs = gridfs.GridFS(db)"
   ]
  },
  {
   "cell_type": "code",
   "execution_count": 3,
   "metadata": {},
   "outputs": [
    {
     "name": "stdout",
     "output_type": "stream",
     "text": [
      "5d81cf47ef0deea30c51cfea\n"
     ]
    }
   ],
   "source": [
    "imageID = fs.put(open(\"/Users/andreynovichkov/Desktop/Make-School/Personal-projects/Image-editing/static/original_images/la_sunset.jpg\", \"rb\"))\n",
    "print(imageID)"
   ]
  },
  {
   "cell_type": "code",
   "execution_count": 4,
   "metadata": {},
   "outputs": [
    {
     "name": "stdout",
     "output_type": "stream",
     "text": [
      "<gridfs.grid_file.GridOut object at 0x10f9c9c10>\n"
     ]
    }
   ],
   "source": [
    "for row in fs.find({\"_id\": imageID}):\n",
    "    print(row)"
   ]
  },
  {
   "cell_type": "code",
   "execution_count": 5,
   "metadata": {},
   "outputs": [
    {
     "data": {
      "text/plain": [
       "<pymongo.results.InsertOneResult at 0x10f9dc8c0>"
      ]
     },
     "execution_count": 5,
     "metadata": {},
     "output_type": "execute_result"
    }
   ],
   "source": [
    "img_cl.insert_one({'Name': \"Andrey\", \"image_id\": imageID})"
   ]
  },
  {
   "cell_type": "code",
   "execution_count": 6,
   "metadata": {},
   "outputs": [
    {
     "data": {
      "text/plain": [
       "['image_paths', 'fs.files', 'fs.chunks']"
      ]
     },
     "execution_count": 6,
     "metadata": {},
     "output_type": "execute_result"
    }
   ],
   "source": [
    "db.list_collection_names()"
   ]
  },
  {
   "cell_type": "code",
   "execution_count": 7,
   "metadata": {},
   "outputs": [
    {
     "name": "stdout",
     "output_type": "stream",
     "text": [
      "{'_id': ObjectId('5d7fe720568b0cd316bbeef7'), 'fs_id': ObjectId('5d7fe720568b0cd316bbeec8'), 'name': 'San Francisco', 'category': 'City', 'location_by_country': 'United States', 'file_size': 11773658, 'path': '/Users/andreynovichkov/Desktop/to-post-in-august/_DSC0569.jpg'}\n",
      "{'_id': ObjectId('5d81cf49ef0deea30c51cfec'), 'Name': 'Andrey', 'image_id': ObjectId('5d81cf47ef0deea30c51cfea')}\n"
     ]
    }
   ],
   "source": [
    "for row in img_cl.find():\n",
    "    print(row)"
   ]
  },
  {
   "cell_type": "code",
   "execution_count": 65,
   "metadata": {},
   "outputs": [
    {
     "name": "stderr",
     "output_type": "stream",
     "text": [
      "/usr/local/lib/python3.7/site-packages/ipykernel_launcher.py:1: DeprecationWarning: remove is deprecated. Use delete_one or delete_many instead.\n",
      "  \"\"\"Entry point for launching an IPython kernel.\n"
     ]
    },
    {
     "data": {
      "text/plain": [
       "{'n': 2, 'ok': 1.0}"
      ]
     },
     "execution_count": 65,
     "metadata": {},
     "output_type": "execute_result"
    }
   ],
   "source": [
    "img_cl.remove({'Name':'Andrey'})"
   ]
  },
  {
   "cell_type": "code",
   "execution_count": 20,
   "metadata": {},
   "outputs": [
    {
     "name": "stdout",
     "output_type": "stream",
     "text": [
      "{'_id': ObjectId('5d7fe720568b0cd316bbeef7'), 'fs_id': ObjectId('5d7fe720568b0cd316bbeec8'), 'name': 'San Francisco', 'category': 'City', 'location_by_country': 'United States', 'file_size': 11773658, 'path': '/Users/andreynovichkov/Desktop/to-post-in-august/_DSC0569.jpg'}\n",
      "{'_id': ObjectId('5d803c955cf0dae33043b9ef'), 'Name': 'Andrey', 'image_id': ObjectId('5d803c905cf0dae33043b9c0')}\n"
     ]
    }
   ],
   "source": [
    "for row in img_cl.find():\n",
    "    print(row)"
   ]
  },
  {
   "cell_type": "code",
   "execution_count": 21,
   "metadata": {},
   "outputs": [
    {
     "data": {
      "text/plain": [
       "['image_paths', 'fs.files', 'fs.chunks']"
      ]
     },
     "execution_count": 21,
     "metadata": {},
     "output_type": "execute_result"
    }
   ],
   "source": [
    "db.list_collection_names()"
   ]
  },
  {
   "cell_type": "code",
   "execution_count": 11,
   "metadata": {},
   "outputs": [
    {
     "name": "stdout",
     "output_type": "stream",
     "text": [
      "{'_id': ObjectId('5d7fe720568b0cd316bbeef7'), 'fs_id': ObjectId('5d7fe720568b0cd316bbeec8'), 'name': 'San Francisco', 'category': 'City', 'location_by_country': 'United States', 'file_size': 11773658, 'path': '/Users/andreynovichkov/Desktop/to-post-in-august/_DSC0569.jpg'}\n",
      "{'_id': ObjectId('5d81cf49ef0deea30c51cfec'), 'Name': 'Andrey', 'image_id': ObjectId('5d81cf47ef0deea30c51cfea')}\n"
     ]
    }
   ],
   "source": [
    "for row in img_cl.find():\n",
    "    print(row)"
   ]
  },
  {
   "cell_type": "code",
   "execution_count": 10,
   "metadata": {},
   "outputs": [
    {
     "ename": "AttributeError",
     "evalue": "'NoneType' object has no attribute 'delete'",
     "output_type": "error",
     "traceback": [
      "\u001b[0;31m---------------------------------------------------------------------------\u001b[0m",
      "\u001b[0;31mAttributeError\u001b[0m                            Traceback (most recent call last)",
      "\u001b[0;32m<ipython-input-10-969b2f249ea4>\u001b[0m in \u001b[0;36m<module>\u001b[0;34m\u001b[0m\n\u001b[0;32m----> 1\u001b[0;31m \u001b[0mfs\u001b[0m \u001b[0;34m=\u001b[0m \u001b[0mfs\u001b[0m\u001b[0;34m.\u001b[0m\u001b[0mdelete\u001b[0m\u001b[0;34m(\u001b[0m\u001b[0;34m'5d7fe720568b0cd316bbeef7'\u001b[0m\u001b[0;34m)\u001b[0m\u001b[0;34m\u001b[0m\u001b[0;34m\u001b[0m\u001b[0m\n\u001b[0m",
      "\u001b[0;31mAttributeError\u001b[0m: 'NoneType' object has no attribute 'delete'"
     ]
    }
   ],
   "source": [
    "fs = fs.delete('5d7fe720568b0cd316bbeef7')"
   ]
  },
  {
   "cell_type": "code",
   "execution_count": 30,
   "metadata": {},
   "outputs": [],
   "source": []
  },
  {
   "cell_type": "code",
   "execution_count": 54,
   "metadata": {},
   "outputs": [],
   "source": [
    "import json\n",
    "from bson.objectid import ObjectId"
   ]
  },
  {
   "cell_type": "code",
   "execution_count": 55,
   "metadata": {},
   "outputs": [],
   "source": [
    "x = img_cl.find({'Name': 'Andrey'})\n",
    "for row in x:\n",
    "    id = row['_id']"
   ]
  },
  {
   "cell_type": "code",
   "execution_count": 56,
   "metadata": {},
   "outputs": [
    {
     "data": {
      "text/plain": [
       "ObjectId('5d803c955cf0dae33043b9ef')"
      ]
     },
     "execution_count": 56,
     "metadata": {},
     "output_type": "execute_result"
    }
   ],
   "source": [
    "id"
   ]
  },
  {
   "cell_type": "code",
   "execution_count": 57,
   "metadata": {},
   "outputs": [
    {
     "ename": "AttributeError",
     "evalue": "'ObjectId' object has no attribute 'toString'",
     "output_type": "error",
     "traceback": [
      "\u001b[0;31m---------------------------------------------------------------------------\u001b[0m",
      "\u001b[0;31mAttributeError\u001b[0m                            Traceback (most recent call last)",
      "\u001b[0;32m<ipython-input-57-2e51bc10bfbe>\u001b[0m in \u001b[0;36m<module>\u001b[0;34m\u001b[0m\n\u001b[0;32m----> 1\u001b[0;31m \u001b[0mid\u001b[0m\u001b[0;34m.\u001b[0m\u001b[0mtoString\u001b[0m\u001b[0;34m(\u001b[0m\u001b[0;34m)\u001b[0m\u001b[0;34m\u001b[0m\u001b[0;34m\u001b[0m\u001b[0m\n\u001b[0m",
      "\u001b[0;31mAttributeError\u001b[0m: 'ObjectId' object has no attribute 'toString'"
     ]
    }
   ],
   "source": [
    "id.toString()"
   ]
  },
  {
   "cell_type": "code",
   "execution_count": 58,
   "metadata": {},
   "outputs": [
    {
     "ename": "AttributeError",
     "evalue": "'ObjectId' object has no attribute 'toString'",
     "output_type": "error",
     "traceback": [
      "\u001b[0;31m---------------------------------------------------------------------------\u001b[0m",
      "\u001b[0;31mAttributeError\u001b[0m                            Traceback (most recent call last)",
      "\u001b[0;32m<ipython-input-58-c0c511d4aa60>\u001b[0m in \u001b[0;36m<module>\u001b[0;34m\u001b[0m\n\u001b[0;32m----> 1\u001b[0;31m \u001b[0mObjectId\u001b[0m\u001b[0;34m(\u001b[0m\u001b[0;34m\"507c7f79bcf86cd7994f6c0e\"\u001b[0m\u001b[0;34m)\u001b[0m\u001b[0;34m.\u001b[0m\u001b[0mtoString\u001b[0m\u001b[0;34m(\u001b[0m\u001b[0;34m)\u001b[0m\u001b[0;34m\u001b[0m\u001b[0;34m\u001b[0m\u001b[0m\n\u001b[0m",
      "\u001b[0;31mAttributeError\u001b[0m: 'ObjectId' object has no attribute 'toString'"
     ]
    }
   ],
   "source": [
    "ObjectId(\"507c7f79bcf86cd7994f6c0e\").toString()"
   ]
  },
  {
   "cell_type": "code",
   "execution_count": 68,
   "metadata": {},
   "outputs": [
    {
     "data": {
      "text/plain": [
       "bson.objectid.ObjectId"
      ]
     },
     "execution_count": 68,
     "metadata": {},
     "output_type": "execute_result"
    }
   ],
   "source": [
    "type(ObjectId('5d803c955cf0dae33043b9ef'))"
   ]
  },
  {
   "cell_type": "code",
   "execution_count": null,
   "metadata": {},
   "outputs": [],
   "source": []
  },
  {
   "cell_type": "code",
   "execution_count": null,
   "metadata": {},
   "outputs": [],
   "source": []
  },
  {
   "cell_type": "code",
   "execution_count": null,
   "metadata": {},
   "outputs": [],
   "source": []
  },
  {
   "cell_type": "code",
   "execution_count": null,
   "metadata": {},
   "outputs": [],
   "source": []
  },
  {
   "cell_type": "code",
   "execution_count": 2,
   "metadata": {},
   "outputs": [
    {
     "data": {
      "text/plain": [
       "<pymongo.cursor.Cursor at 0x10d769110>"
      ]
     },
     "execution_count": 2,
     "metadata": {},
     "output_type": "execute_result"
    }
   ],
   "source": [
    "img_cl.find()"
   ]
  },
  {
   "cell_type": "code",
   "execution_count": 7,
   "metadata": {},
   "outputs": [
    {
     "name": "stdout",
     "output_type": "stream",
     "text": [
      "{'_id': ObjectId('5d7fe720568b0cd316bbeef7'), 'fs_id': ObjectId('5d7fe720568b0cd316bbeec8'), 'name': 'San Francisco', 'category': 'City', 'location_by_country': 'United States', 'file_size': 11773658, 'path': '/Users/andreynovichkov/Desktop/to-post-in-august/_DSC0569.jpg'}\n",
      "{'_id': ObjectId('5d81cf49ef0deea30c51cfec'), 'Name': 'Andrey', 'image_id': ObjectId('5d81cf47ef0deea30c51cfea')}\n"
     ]
    }
   ],
   "source": [
    "for item in img_cl.find():\n",
    "    print(item)\n",
    "    "
   ]
  },
  {
   "cell_type": "code",
   "execution_count": 4,
   "metadata": {},
   "outputs": [
    {
     "ename": "SyntaxError",
     "evalue": "invalid syntax (<ipython-input-4-c7e6d3b3d3f1>, line 1)",
     "output_type": "error",
     "traceback": [
      "\u001b[0;36m  File \u001b[0;32m\"<ipython-input-4-c7e6d3b3d3f1>\"\u001b[0;36m, line \u001b[0;32m1\u001b[0m\n\u001b[0;31m    fs.remove(5d81cf49ef0deea30c51cfec)\u001b[0m\n\u001b[0m                                     ^\u001b[0m\n\u001b[0;31mSyntaxError\u001b[0m\u001b[0;31m:\u001b[0m invalid syntax\n"
     ]
    }
   ],
   "source": [
    "fs.remove(5d81cf49ef0deea30c51cfec)"
   ]
  },
  {
   "cell_type": "code",
   "execution_count": 5,
   "metadata": {},
   "outputs": [
    {
     "ename": "AttributeError",
     "evalue": "'GridFS' object has no attribute 'remove'",
     "output_type": "error",
     "traceback": [
      "\u001b[0;31m---------------------------------------------------------------------------\u001b[0m",
      "\u001b[0;31mAttributeError\u001b[0m                            Traceback (most recent call last)",
      "\u001b[0;32m<ipython-input-5-986bd59f14d6>\u001b[0m in \u001b[0;36m<module>\u001b[0;34m\u001b[0m\n\u001b[0;32m----> 1\u001b[0;31m \u001b[0mfs\u001b[0m\u001b[0;34m.\u001b[0m\u001b[0mremove\u001b[0m\u001b[0;34m(\u001b[0m\u001b[0;34m\"5d81cf49ef0deea30c51cfec\"\u001b[0m\u001b[0;34m)\u001b[0m\u001b[0;34m\u001b[0m\u001b[0;34m\u001b[0m\u001b[0m\n\u001b[0m",
      "\u001b[0;31mAttributeError\u001b[0m: 'GridFS' object has no attribute 'remove'"
     ]
    }
   ],
   "source": [
    "fs.remove(\"5d81cf49ef0deea30c51cfec\")"
   ]
  },
  {
   "cell_type": "code",
   "execution_count": 8,
   "metadata": {},
   "outputs": [
    {
     "ename": "TypeError",
     "evalue": "'Collection' object is not callable. If you meant to call the 'delete' method on a 'Collection' object it is failing because no such method exists.",
     "output_type": "error",
     "traceback": [
      "\u001b[0;31m---------------------------------------------------------------------------\u001b[0m",
      "\u001b[0;31mTypeError\u001b[0m                                 Traceback (most recent call last)",
      "\u001b[0;32m<ipython-input-8-e0aab34e4d9e>\u001b[0m in \u001b[0;36m<module>\u001b[0;34m\u001b[0m\n\u001b[0;32m----> 1\u001b[0;31m \u001b[0mimg_cl\u001b[0m\u001b[0;34m.\u001b[0m\u001b[0mdelete\u001b[0m\u001b[0;34m(\u001b[0m\u001b[0;34m\"5d81cf49ef0deea30c51cfec\"\u001b[0m\u001b[0;34m)\u001b[0m\u001b[0;34m\u001b[0m\u001b[0;34m\u001b[0m\u001b[0m\n\u001b[0m",
      "\u001b[0;32m/usr/local/lib/python3.7/site-packages/pymongo/collection.py\u001b[0m in \u001b[0;36m__call__\u001b[0;34m(self, *args, **kwargs)\u001b[0m\n\u001b[1;32m   3341\u001b[0m                         \u001b[0;34m\"call the '%s' method on a 'Collection' object it is \"\u001b[0m\u001b[0;34m\u001b[0m\u001b[0;34m\u001b[0m\u001b[0m\n\u001b[1;32m   3342\u001b[0m                         \u001b[0;34m\"failing because no such method exists.\"\u001b[0m \u001b[0;34m%\u001b[0m\u001b[0;34m\u001b[0m\u001b[0;34m\u001b[0m\u001b[0m\n\u001b[0;32m-> 3343\u001b[0;31m                         self.__name.split(\".\")[-1])\n\u001b[0m",
      "\u001b[0;31mTypeError\u001b[0m: 'Collection' object is not callable. If you meant to call the 'delete' method on a 'Collection' object it is failing because no such method exists."
     ]
    }
   ],
   "source": [
    "img_cl.delete(\"5d81cf49ef0deea30c51cfec\")"
   ]
  },
  {
   "cell_type": "code",
   "execution_count": 12,
   "metadata": {},
   "outputs": [
    {
     "ename": "NameError",
     "evalue": "name 'ObjectID' is not defined",
     "output_type": "error",
     "traceback": [
      "\u001b[0;31m---------------------------------------------------------------------------\u001b[0m",
      "\u001b[0;31mNameError\u001b[0m                                 Traceback (most recent call last)",
      "\u001b[0;32m<ipython-input-12-112c533800fa>\u001b[0m in \u001b[0;36m<module>\u001b[0;34m\u001b[0m\n\u001b[0;32m----> 1\u001b[0;31m \u001b[0mimg_cl\u001b[0m\u001b[0;34m.\u001b[0m\u001b[0mdelete_one\u001b[0m\u001b[0;34m(\u001b[0m\u001b[0mObjectID\u001b[0m\u001b[0;34m(\u001b[0m\u001b[0;34m\"5d81cf49ef0deea30c51cfec\"\u001b[0m\u001b[0;34m)\u001b[0m\u001b[0;34m)\u001b[0m\u001b[0;34m\u001b[0m\u001b[0;34m\u001b[0m\u001b[0m\n\u001b[0m",
      "\u001b[0;31mNameError\u001b[0m: name 'ObjectID' is not defined"
     ]
    }
   ],
   "source": [
    "img_cl.delete_one()"
   ]
  },
  {
   "cell_type": "code",
   "execution_count": null,
   "metadata": {},
   "outputs": [],
   "source": []
  },
  {
   "cell_type": "code",
   "execution_count": null,
   "metadata": {},
   "outputs": [],
   "source": []
  },
  {
   "cell_type": "code",
   "execution_count": null,
   "metadata": {},
   "outputs": [],
   "source": []
  },
  {
   "cell_type": "code",
   "execution_count": null,
   "metadata": {},
   "outputs": [],
   "source": []
  },
  {
   "cell_type": "code",
   "execution_count": null,
   "metadata": {},
   "outputs": [],
   "source": []
  },
  {
   "cell_type": "code",
   "execution_count": null,
   "metadata": {},
   "outputs": [],
   "source": []
  },
  {
   "cell_type": "code",
   "execution_count": null,
   "metadata": {},
   "outputs": [],
   "source": []
  },
  {
   "cell_type": "code",
   "execution_count": null,
   "metadata": {},
   "outputs": [],
   "source": []
  },
  {
   "cell_type": "code",
   "execution_count": null,
   "metadata": {},
   "outputs": [],
   "source": []
  },
  {
   "cell_type": "code",
   "execution_count": null,
   "metadata": {},
   "outputs": [],
   "source": []
  },
  {
   "cell_type": "code",
   "execution_count": null,
   "metadata": {},
   "outputs": [],
   "source": []
  },
  {
   "cell_type": "code",
   "execution_count": null,
   "metadata": {},
   "outputs": [],
   "source": []
  },
  {
   "cell_type": "code",
   "execution_count": null,
   "metadata": {},
   "outputs": [],
   "source": []
  },
  {
   "cell_type": "code",
   "execution_count": null,
   "metadata": {},
   "outputs": [],
   "source": []
  },
  {
   "cell_type": "code",
   "execution_count": null,
   "metadata": {},
   "outputs": [],
   "source": []
  },
  {
   "cell_type": "code",
   "execution_count": null,
   "metadata": {},
   "outputs": [],
   "source": []
  },
  {
   "cell_type": "code",
   "execution_count": 22,
   "metadata": {},
   "outputs": [],
   "source": [
    "from pymongo import MongoClient, DeleteOne\n",
    "import gridfs\n",
    "import os\n",
    "from bson.objectid import ObjectId\n",
    "\n",
    "client = MongoClient()\n",
    "db = client['images']\n",
    "img_cl = db['image_paths']\n",
    "test_cl = db['test_collection']\n",
    "fs = gridfs.GridFS(db)"
   ]
  },
  {
   "cell_type": "code",
   "execution_count": 23,
   "metadata": {},
   "outputs": [
    {
     "name": "stdout",
     "output_type": "stream",
     "text": [
      "{'_id': ObjectId('5d9644c6331927310bd1aafb'), 'name': 'test1'}\n",
      "{'_id': ObjectId('5d9644c7331927310bd1aafc'), 'name': 'test1'}\n"
     ]
    }
   ],
   "source": [
    "for row in img_cl.find():\n",
    "    print(row)"
   ]
  },
  {
   "cell_type": "code",
   "execution_count": 15,
   "metadata": {},
   "outputs": [
    {
     "data": {
      "text/plain": [
       "<pymongo.results.InsertOneResult at 0x10c022b90>"
      ]
     },
     "execution_count": 15,
     "metadata": {},
     "output_type": "execute_result"
    }
   ],
   "source": [
    "img_cl.insert_one({'name': 'test1'})"
   ]
  },
  {
   "cell_type": "code",
   "execution_count": 32,
   "metadata": {},
   "outputs": [
    {
     "data": {
      "text/plain": [
       "<pymongo.results.InsertOneResult at 0x10dc015a0>"
      ]
     },
     "execution_count": 32,
     "metadata": {},
     "output_type": "execute_result"
    }
   ],
   "source": [
    "test_cl.insert_one({'product_id': '5d9644c7331927310bd1aafc'})"
   ]
  },
  {
   "cell_type": "code",
   "execution_count": 33,
   "metadata": {},
   "outputs": [
    {
     "name": "stdout",
     "output_type": "stream",
     "text": [
      "{'_id': ObjectId('5d9671d3331927310bd1aaff'), 'product_id': '5d9644c6331927310bd1aafb'}\n",
      "{'_id': ObjectId('5d967215331927310bd1ab00'), 'product_id': '5d9644c7331927310bd1aafc'}\n"
     ]
    }
   ],
   "source": [
    "for row in test_cl.find():\n",
    "    print(row)"
   ]
  },
  {
   "cell_type": "code",
   "execution_count": 44,
   "metadata": {},
   "outputs": [
    {
     "ename": "TypeError",
     "evalue": "index 'product_id' cannot be applied to Cursor instances",
     "output_type": "error",
     "traceback": [
      "\u001b[0;31m---------------------------------------------------------------------------\u001b[0m",
      "\u001b[0;31mTypeError\u001b[0m                                 Traceback (most recent call last)",
      "\u001b[0;32m<ipython-input-44-e7c5c4376d49>\u001b[0m in \u001b[0;36m<module>\u001b[0;34m\u001b[0m\n\u001b[0;32m----> 1\u001b[0;31m \u001b[0mimg_cl\u001b[0m\u001b[0;34m.\u001b[0m\u001b[0mfind\u001b[0m\u001b[0;34m(\u001b[0m\u001b[0;34m{\u001b[0m\u001b[0;34m'_id'\u001b[0m\u001b[0;34m:\u001b[0m \u001b[0mtest_cl\u001b[0m\u001b[0;34m.\u001b[0m\u001b[0mfind\u001b[0m\u001b[0;34m(\u001b[0m\u001b[0;34m)\u001b[0m\u001b[0;34m[\u001b[0m\u001b[0;34m'product_id'\u001b[0m\u001b[0;34m]\u001b[0m\u001b[0;34m}\u001b[0m\u001b[0;34m)\u001b[0m\u001b[0;34m\u001b[0m\u001b[0;34m\u001b[0m\u001b[0m\n\u001b[0m",
      "\u001b[0;32m/usr/local/lib/python3.7/site-packages/pymongo/cursor.py\u001b[0m in \u001b[0;36m__getitem__\u001b[0;34m(self, index)\u001b[0m\n\u001b[1;32m    616\u001b[0m             \u001b[0;32mraise\u001b[0m \u001b[0mIndexError\u001b[0m\u001b[0;34m(\u001b[0m\u001b[0;34m\"no such item for Cursor instance\"\u001b[0m\u001b[0;34m)\u001b[0m\u001b[0;34m\u001b[0m\u001b[0;34m\u001b[0m\u001b[0m\n\u001b[1;32m    617\u001b[0m         raise TypeError(\"index %r cannot be applied to Cursor \"\n\u001b[0;32m--> 618\u001b[0;31m                         \"instances\" % index)\n\u001b[0m\u001b[1;32m    619\u001b[0m \u001b[0;34m\u001b[0m\u001b[0m\n\u001b[1;32m    620\u001b[0m     \u001b[0;32mdef\u001b[0m \u001b[0mmax_scan\u001b[0m\u001b[0;34m(\u001b[0m\u001b[0mself\u001b[0m\u001b[0;34m,\u001b[0m \u001b[0mmax_scan\u001b[0m\u001b[0;34m)\u001b[0m\u001b[0;34m:\u001b[0m\u001b[0;34m\u001b[0m\u001b[0;34m\u001b[0m\u001b[0m\n",
      "\u001b[0;31mTypeError\u001b[0m: index 'product_id' cannot be applied to Cursor instances"
     ]
    }
   ],
   "source": [
    "img_cl.find({'_id': test_cl.find()['product_id']})"
   ]
  },
  {
   "cell_type": "code",
   "execution_count": 45,
   "metadata": {},
   "outputs": [
    {
     "name": "stdout",
     "output_type": "stream",
     "text": [
      "{'_id': ObjectId('5d9671d3331927310bd1aaff'), 'product_id': '5d9644c6331927310bd1aafb'}\n",
      "{'_id': ObjectId('5d967215331927310bd1ab00'), 'product_id': '5d9644c7331927310bd1aafc'}\n"
     ]
    }
   ],
   "source": [
    "for row in test_cl.find():\n",
    "    print(row)"
   ]
  },
  {
   "cell_type": "code",
   "execution_count": null,
   "metadata": {},
   "outputs": [],
   "source": [
    "img_cl.find"
   ]
  },
  {
   "cell_type": "code",
   "execution_count": 29,
   "metadata": {},
   "outputs": [
    {
     "data": {
      "text/plain": [
       "<pymongo.results.DeleteResult at 0x10db217d0>"
      ]
     },
     "execution_count": 29,
     "metadata": {},
     "output_type": "execute_result"
    }
   ],
   "source": [
    "test_cl.delete_one({'_id': '5d9644c6331927310bd1aafb'})"
   ]
  },
  {
   "cell_type": "code",
   "execution_count": 21,
   "metadata": {},
   "outputs": [
    {
     "data": {
      "text/plain": [
       "ObjectId('5d9644c6331927310bd1aafb')"
      ]
     },
     "execution_count": 21,
     "metadata": {},
     "output_type": "execute_result"
    }
   ],
   "source": [
    "img_cl.find_one({'_id': ObjectId(\"5d9644c6331927310bd1aafb\")})['_id']"
   ]
  },
  {
   "cell_type": "code",
   "execution_count": 12,
   "metadata": {},
   "outputs": [
    {
     "data": {
      "text/plain": [
       "<pymongo.results.DeleteResult at 0x10dc77230>"
      ]
     },
     "execution_count": 12,
     "metadata": {},
     "output_type": "execute_result"
    }
   ],
   "source": [
    "img_cl.delete_many({})"
   ]
  },
  {
   "cell_type": "code",
   "execution_count": 7,
   "metadata": {},
   "outputs": [
    {
     "name": "stdout",
     "output_type": "stream",
     "text": [
      "{'_id': ObjectId('5d89b74d08dd3c420db2682e'), 'fs_id': ObjectId('5d89b74c08dd3c420db2682c'), 'name': 'Daphne', 'category': 'Portrait', 'location_by_country': 'United States', 'file_size': 118508, 'path': '/Users/andreynovichkov/Desktop/Make-School/Personal-projects/Image-editing/static/original_images/daph.jpg'}\n",
      "{'_id': ObjectId('5d89b7815b7e7ebc5b4e0149'), 'fs_id': ObjectId('5d89b7815b7e7ebc5b4e0145'), 'name': 'Vancouver bridge', 'category': 'City', 'location_by_country': 'British Columbia', 'file_size': 533415, 'path': '/Users/andreynovichkov/Desktop/Make-School/Personal-projects/Image-editing/static/original_images/vancouver.jpg'}\n",
      "{'_id': ObjectId('5d89b79a771bb11d8b28c921'), 'fs_id': ObjectId('5d89b79a771bb11d8b28c91c'), 'name': 'Vancouver mall', 'category': 'City', 'location_by_country': 'British Columbia', 'file_size': 891559, 'path': '/Users/andreynovichkov/Desktop/Make-School/Personal-projects/Image-editing/static/original_images/mall.jpg'}\n",
      "{'_id': ObjectId('5d89b7b7a8278cdcf7eb0675'), 'fs_id': ObjectId('5d89b7b7a8278cdcf7eb0672'), 'name': 'Oregon Waterfall', 'category': 'Nature', 'location_by_country': 'United States', 'file_size': 518927, 'path': '/Users/andreynovichkov/Desktop/Make-School/Personal-projects/Image-editing/static/original_images/waterfall.jpg'}\n"
     ]
    }
   ],
   "source": [
    "for row in img_cl.find():\n",
    "    print(row)"
   ]
  },
  {
   "cell_type": "code",
   "execution_count": 1,
   "metadata": {},
   "outputs": [
    {
     "ename": "NameError",
     "evalue": "name 'imageID' is not defined",
     "output_type": "error",
     "traceback": [
      "\u001b[0;31m---------------------------------------------------------------------------\u001b[0m",
      "\u001b[0;31mNameError\u001b[0m                                 Traceback (most recent call last)",
      "\u001b[0;32m<ipython-input-1-4d90a4fc197c>\u001b[0m in \u001b[0;36m<module>\u001b[0;34m\u001b[0m\n\u001b[1;32m      1\u001b[0m input = {\n\u001b[0;32m----> 2\u001b[0;31m     \u001b[0;34m\"fs_id\"\u001b[0m\u001b[0;34m:\u001b[0m \u001b[0mimageID\u001b[0m\u001b[0;34m,\u001b[0m\u001b[0;34m\u001b[0m\u001b[0;34m\u001b[0m\u001b[0m\n\u001b[0m\u001b[1;32m      3\u001b[0m     \u001b[0;34m\"name\"\u001b[0m\u001b[0;34m:\u001b[0m \u001b[0mname\u001b[0m\u001b[0;34m,\u001b[0m\u001b[0;34m\u001b[0m\u001b[0;34m\u001b[0m\u001b[0m\n\u001b[1;32m      4\u001b[0m     \u001b[0;34m\"category\"\u001b[0m\u001b[0;34m:\u001b[0m \u001b[0mcategory\u001b[0m\u001b[0;34m,\u001b[0m\u001b[0;34m\u001b[0m\u001b[0;34m\u001b[0m\u001b[0m\n\u001b[1;32m      5\u001b[0m     \u001b[0;34m\"location_by_country\"\u001b[0m\u001b[0;34m:\u001b[0m \u001b[0mlocation_by_country\u001b[0m\u001b[0;34m,\u001b[0m\u001b[0;34m\u001b[0m\u001b[0;34m\u001b[0m\u001b[0m\n",
      "\u001b[0;31mNameError\u001b[0m: name 'imageID' is not defined"
     ]
    }
   ],
   "source": [
    "input = {\n",
    "    \"fs_id\": imageID,\n",
    "    \"name\": name,\n",
    "    \"category\": category,\n",
    "    \"location_by_country\": location_by_country,\n",
    "    \"file_size\": os.path.getsize(path),\n",
    "    \"path\": path\n",
    "}"
   ]
  },
  {
   "cell_type": "code",
   "execution_count": 92,
   "metadata": {},
   "outputs": [],
   "source": [
    "contractor_db = client['contractor']\n",
    "\n",
    "cart = contractor_db['cart']\n",
    "\n",
    "products = contractor_db['products']\n",
    "\n",
    "users = contractor_db['users']\n",
    "\n",
    "reviews = contractor_db['reviews']"
   ]
  },
  {
   "cell_type": "code",
   "execution_count": 85,
   "metadata": {},
   "outputs": [],
   "source": [
    "for cart_item in cart.find():\n",
    "    print(cart_item)"
   ]
  },
  {
   "cell_type": "code",
   "execution_count": 50,
   "metadata": {},
   "outputs": [
    {
     "data": {
      "text/plain": [
       "<pymongo.results.DeleteResult at 0x10dfd91e0>"
      ]
     },
     "execution_count": 50,
     "metadata": {},
     "output_type": "execute_result"
    }
   ],
   "source": [
    "cart.delete_many({})"
   ]
  },
  {
   "cell_type": "code",
   "execution_count": 114,
   "metadata": {},
   "outputs": [
    {
     "name": "stdout",
     "output_type": "stream",
     "text": [
      "{'_id': ObjectId('5d984f19894453e60f55b581'), 'product_type': 'sock', 'name': 'Standard Hawaii Sock', 'pic_path': '/Users/andreynovichkov/Desktop/Make-School/Term-1/BEW1-1/10.2/contractor-project/static/images/standard_hawaii_sock.jpg', 'price': 25, 'reviews_id': 456, 'description': 'Your go to sock when travelling to the tropics', 'inventory': 50}\n",
      "{'_id': ObjectId('5d984f19894453e60f55b582'), 'product_type': 'sock', 'name': 'Fruit Loop Sock', 'pic_path': './../images/fruit_loop_sock.jpg', 'price': 30, 'reviews_id': 113, 'description': 'For when you are feeling qwerky', 'inventory': 10}\n",
      "{'_id': ObjectId('5d984f19894453e60f55b583'), 'product_type': 'sock', 'name': 'Coder Sock', 'pic_path': './../images/coder_sock.jpg', 'price': 10, 'reviews_id': 990, 'description': 'If you code, you need to wear this sock at all times', 'inventory': 2}\n",
      "{'_id': ObjectId('5d984f19894453e60f55b584'), 'product_type': 'hoodie', 'name': 'Feel Good Hood', 'pic_path': './../images/feel_good_hood.jpg', 'price': 70, 'reviews_id': 277, 'description': 'Wearing this hoodie will put you in the mood to feel good', 'inventory': 100}\n",
      "{'_id': ObjectId('5d984f19894453e60f55b585'), 'product_type': 'hoodie', 'name': 'Spooky Hoodie', 'pic_path': './../images/spooky_hoodie.jpg', 'price': 100, 'reviews_id': 132, 'description': 'Its spooky szn. Period.', 'inventory': 20}\n",
      "{'_id': ObjectId('5d984f19894453e60f55b586'), 'product_type': 'hoodie', 'name': 'Moody Hoodie', 'pic_path': './../images/moody_hoodie.jpg', 'price': 20, 'reviews_id': 901, 'description': 'For the rainy days', 'inventory': 40}\n",
      "{'_id': ObjectId('5d984f19894453e60f55b587'), 'product_type': 'shirt', 'name': 'Three Comma Club', 'pic_path': './../images/three_comma_club_shirt.jpg', 'price': 1000000000, 'reviews_id': 111, 'description': 'You know who you are. ', 'inventory': 1}\n",
      "{'_id': ObjectId('5d984f19894453e60f55b588'), 'product_type': 'shirt', 'name': 'Bad Boys', 'pic_path': './../images/bad_boys_shirt.jpg', 'price': 10, 'reviews_id': 111, 'description': 'You also know who you are.', 'inventory': 30}\n",
      "{'_id': ObjectId('5d984f19894453e60f55b589'), 'product_type': 'shirt', 'name': 'Semicolon', 'pic_path': './../images/semicolon_shirt.jpg', 'price': 40, 'reviews_id': 444, 'description': 'Period plus a comma, what else could you want?', 'inventory': 40}\n"
     ]
    }
   ],
   "source": [
    "for product in products.find():\n",
    "    print(product)"
   ]
  },
  {
   "cell_type": "code",
   "execution_count": 77,
   "metadata": {},
   "outputs": [
    {
     "data": {
      "text/plain": [
       "{'_id': ObjectId('5d962b4dbe4e0edb98cf888c'),\n",
       " 'product_type': 'sock',\n",
       " 'name': 'Standard Hawaii Sock',\n",
       " 'pic_id': 123,\n",
       " 'price': 25,\n",
       " 'reviews_id': 456,\n",
       " 'description': 'Your go to sock when travelling to the tropics',\n",
       " 'inventory': 50}"
      ]
     },
     "execution_count": 77,
     "metadata": {},
     "output_type": "execute_result"
    }
   ],
   "source": [
    "products.find_one_and_update({'_id': ObjectId('5d962b4dbe4e0edb98cf888c')}, {\"$inc\": {'inventory': -1}})"
   ]
  },
  {
   "cell_type": "code",
   "execution_count": 91,
   "metadata": {},
   "outputs": [
    {
     "name": "stdout",
     "output_type": "stream",
     "text": [
      "{'_id': ObjectId('5d982d6da7b29eee501764c5'), 'name': None, 'username': 'APNovichkov', 'password': None}\n",
      "{'_id': ObjectId('5d982d9c9d1936c4785d7d5b'), 'name': None, 'username': 'APNovichkov', 'password': None}\n",
      "{'_id': ObjectId('5d982df3d8eb0c75ea3b3728'), 'name': None, 'username': 'akljdf', 'password': None}\n",
      "{'_id': ObjectId('5d982e241a6ba9c5909dc292'), 'name': None, 'username': 'alksdjf', 'password': None}\n",
      "{'_id': ObjectId('5d982eb00e1d3279629ef6b3'), 'name': None, 'username': 'lkjsdf', 'password': None}\n",
      "{'_id': ObjectId('5d982f610e1d3279629ef6b4'), 'name': None, 'username': 'jlskjdf', 'password': None}\n",
      "{'_id': ObjectId('5d98304fa27491d275afa0fc'), 'name': None, 'username': None, 'password': None}\n",
      "{'_id': ObjectId('5d9830d3754402723d909de3'), 'name': None, 'username': 'pdf', 'password': None}\n",
      "{'_id': ObjectId('5d9830e1720e6a229477ae0f'), 'name': None, 'username': 'pdf', 'password': None}\n",
      "{'_id': ObjectId('5d983164548771b9513ca457'), 'name': 'Andrey', 'username': None, 'password': None}\n",
      "{'_id': ObjectId('5d98322595067b690b4e776a'), 'name': None, 'username': 'lskjdf', 'password': 'lskjdf'}\n",
      "{'_id': ObjectId('5d98323f95067b690b4e776b'), 'name': 'Andrey', 'username': 'kljlajsdf', 'password': 'kljlajsdf'}\n",
      "{'_id': ObjectId('5d9832975d55ee5f6ee6eca5'), 'name': 'Andrey', 'username': 'jlkjsdf', 'password': 'lkjsdf'}\n",
      "{'_id': ObjectId('5d9833f36b14d5e93eeebcb9'), 'name': 'Andrey', 'username': 'APNovichkov', 'password': '1998Moscow'}\n"
     ]
    }
   ],
   "source": [
    "for user in users.find():\n",
    "    print(user)"
   ]
  },
  {
   "cell_type": "code",
   "execution_count": 117,
   "metadata": {},
   "outputs": [
    {
     "data": {
      "text/plain": [
       "<pymongo.results.DeleteResult at 0x10e29e6e0>"
      ]
     },
     "execution_count": 117,
     "metadata": {},
     "output_type": "execute_result"
    }
   ],
   "source": [
    "session.delete_many({})"
   ]
  },
  {
   "cell_type": "code",
   "execution_count": 127,
   "metadata": {},
   "outputs": [
    {
     "name": "stdout",
     "output_type": "stream",
     "text": [
      "{'_id': ObjectId('5d98e20d742628c5b1025d9a'), 'user_id': '5d98e21a742628c5b1025d9b', 'time_started': '2019-10-05 18:33:49'}\n"
     ]
    }
   ],
   "source": [
    "for session_parameter in session.find():\n",
    "    print(session_parameter)"
   ]
  },
  {
   "cell_type": "code",
   "execution_count": 99,
   "metadata": {},
   "outputs": [
    {
     "ename": "SyntaxError",
     "evalue": "invalid syntax (<ipython-input-99-85e2d566b038>, line 1)",
     "output_type": "error",
     "traceback": [
      "\u001b[0;36m  File \u001b[0;32m\"<ipython-input-99-85e2d566b038>\"\u001b[0;36m, line \u001b[0;32m1\u001b[0m\n\u001b[0;31m    test=[][]\u001b[0m\n\u001b[0m            ^\u001b[0m\n\u001b[0;31mSyntaxError\u001b[0m\u001b[0;31m:\u001b[0m invalid syntax\n"
     ]
    }
   ],
   "source": [
    "test=[][]"
   ]
  },
  {
   "cell_type": "code",
   "execution_count": null,
   "metadata": {},
   "outputs": [],
   "source": [
    "session."
   ]
  }
 ],
 "metadata": {
  "kernelspec": {
   "display_name": "Python 3",
   "language": "python",
   "name": "python3"
  },
  "language_info": {
   "codemirror_mode": {
    "name": "ipython",
    "version": 3
   },
   "file_extension": ".py",
   "mimetype": "text/x-python",
   "name": "python",
   "nbconvert_exporter": "python",
   "pygments_lexer": "ipython3",
   "version": "3.7.4"
  }
 },
 "nbformat": 4,
 "nbformat_minor": 2
}
